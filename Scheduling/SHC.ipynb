{
 "cells": [
  {
   "cell_type": "code",
   "execution_count": 31,
   "id": "cb5c5ebc-848e-4657-b636-8689339bff66",
   "metadata": {},
   "outputs": [],
   "source": [
    "import random as rd\n",
    "import time"
   ]
  },
  {
   "cell_type": "code",
   "execution_count": 32,
   "id": "58682b12-88c0-42a8-82de-f20f016399b5",
   "metadata": {},
   "outputs": [],
   "source": [
    "#read data from file input.txt\n",
    "with open('input.txt') as f:\n",
    "    n = int(f.readline().strip())\n",
    "    data = []\n",
    "    for i in f:\n",
    "        data.append(list(map(int, i.split())))"
   ]
  },
  {
   "cell_type": "code",
   "execution_count": 1,
   "id": "748733ac-9642-45e8-a3ab-6611f994b024",
   "metadata": {},
   "outputs": [],
   "source": [
    "#the number of tasks which doesn't meet the deadline\n",
    "def violation(data, solution):\n",
    "    \"\"\"\n",
    "    Do tasks in turn from left to right\n",
    "    if a task miss its deadline, increase the number of violation (vio) by 1\n",
    "    \"\"\"\n",
    "    t = 0\n",
    "    violation = 0\n",
    "    for i in solution:\n",
    "        if data[i][1] >= t:    #if the current time is smaller than the entry time\n",
    "            if data[i][1] + data[i][2] <= data[i][3]:    #if the end time is sooner than the deadline\n",
    "                t = data[i][1] + data[i][2]\n",
    "            else:\n",
    "                violation += 1    #otherwise increase violation by 1\n",
    "        else:\n",
    "            if t + data[i][2] <= data[i][3]:     #if do task i and does not exceed the deadline\n",
    "                t = t + data[i][2]\n",
    "            else:\n",
    "                violation += 1    #otherwise increase violation by 1\n",
    "    return violation\n",
    "\n",
    "#Generate neighbor \n",
    "def neighbor(solution):\n",
    "    i, j = rd.randint(0, len(solution)-1), rd.randint(0, len(solution)-1)    #random two positons #is this why its called stochastic due to randomness introduced??\n",
    "    i, j = min(i, j), max(i, j)    #sort i, j in ascending order\n",
    "    neighbor = solution.copy()   #make a copy of solution\n",
    "    \n",
    "    #move element at position j to position i\n",
    "    while j > i:\n",
    "        neighbor[j], neighbor[j-1] = neighbor[j-1], neighbor[j]    \n",
    "        j -= 1\n",
    "        \n",
    "    return neighbor\n",
    "\n",
    "#initialize the starting solution\n",
    "def initialize(data):\n",
    "    #return a random permutation of integer list from 0 to len(data) - 1\n",
    "    arr = list(range(len(data))) #is this why its called stochastic due to randomness introduced??\n",
    "    rd.shuffle(arr)\n",
    "    return arr\n",
    "\n",
    "#Stochastic Hill climbing\n",
    "def sHill(n, data, X, num, iterations):\n",
    "    solution = initialize(data)    #initialize the starting solution\n",
    "    best_solution = violation(data, solution)    #the current smallest number of violations\n",
    "    t = 0\n",
    "    iters = 0\n",
    "    \n",
    "    #loop until best_s has no update after X iterations and \n",
    "    #the number of iterations is less than the given number of iterations\n",
    "    # or the number of tasks which doesn't meet the deadline is 0\n",
    "    while (t < X and iters < iterations):\n",
    "        neighbors = []\n",
    "        #generate num different neighbors of solution s\n",
    "        for i in range(num):\n",
    "            #loop untill we get a different neighbor\n",
    "            while True:\n",
    "                n = neighbor(solution)\n",
    "                if n not in neighbors and n != solution:\n",
    "                    neighbors.append(n)\n",
    "                    break\n",
    "        neighbors = [(violation(data,i), i) for i in neighbors]   #create a list of tuple\n",
    "        neighbors = [i for i in nei if i[0] <= best_solution]    #get elements that have the number of violation is less than best_s\n",
    "        neighbors.sort(key=lambda x: x[0])   #sort neighbors in ascending order of the number of violations\n",
    "        if len(neighbors) != 0:\n",
    "            r = rd.randint(0, len(nei)-1)\n",
    "            solution = neighbors[r][1]    #move to r(th) best soluton\n",
    "            \n",
    "            #update best solution\n",
    "            if best_solution > neighbors[r][0]:\n",
    "                t = 0\n",
    "            else:\n",
    "                t += 1\n",
    "            best_solution = neighbors[r][0]\n",
    "        else:\n",
    "            t += 1\n",
    "        iters += 1\n",
    "        if best_solution == 0:\n",
    "            break\n",
    "    print(\"the number of violations: \", best_solution)\n",
    "    print(solution)\n",
    "    return solution, best_solution"
   ]
  },
  {
   "cell_type": "code",
   "execution_count": 34,
   "id": "ffe1650e-6f2b-4b54-89de-230e09d9425f",
   "metadata": {},
   "outputs": [
    {
     "name": "stdout",
     "output_type": "stream",
     "text": [
      "the number of violations:  142\n",
      "[0, 20, 7, 9, 1, 3, 2, 11, 21, 6, 27, 5, 26, 12, 18, 31, 4, 14, 10, 8, 17, 23, 181, 131, 13, 41, 46, 29, 24, 25, 22, 19, 74, 70, 79, 99, 16, 15, 86, 30, 47, 39, 35, 81, 124, 43, 33, 28, 117, 38, 191, 115, 110, 55, 42, 32, 72, 36, 49, 37, 62, 105, 78, 56, 148, 137, 111, 44, 108, 34, 134, 76, 40, 189, 45, 109, 58, 57, 91, 101, 94, 84, 65, 48, 69, 89, 61, 179, 98, 100, 129, 87, 116, 90, 52, 152, 51, 102, 75, 192, 60, 133, 53, 63, 130, 54, 171, 85, 188, 104, 112, 103, 80, 67, 66, 77, 173, 73, 120, 159, 168, 138, 95, 93, 106, 88, 135, 143, 92, 128, 174, 176, 113, 127, 59, 150, 147, 50, 118, 156, 71, 141, 119, 97, 64, 68, 82, 169, 167, 132, 184, 121, 83, 122, 158, 170, 123, 114, 197, 183, 136, 187, 164, 125, 194, 146, 182, 96, 157, 145, 107, 172, 163, 140, 161, 144, 196, 149, 160, 155, 126, 175, 154, 198, 195, 153, 139, 142, 166, 185, 199, 151, 180, 177, 190, 186, 162, 165, 193, 178]\n",
      "Running time:  16.452504634857178\n"
     ]
    }
   ],
   "source": [
    "#set parameters for algorithm\n",
    "X = 200\n",
    "num = 60\n",
    "iterations = 10000\n",
    "start = time.time()\n",
    "solution, best_solution = sHill(n, data, X, num, iterations)\n",
    "end = time.time()\n",
    "print(\"Running time: \", end -start)\n",
    "\n",
    "#save results to file\n",
    "answer = []\n",
    "t = 0\n",
    "\n",
    "#this part is same as fitness function\n",
    "for i in s:\n",
    "    if data[i][1] >= t:\n",
    "        if data[i][1] + data[i][2] <= data[i][3]:\n",
    "            answer.append([data[i][0], data[i][1], data[i][1] + data[i][2]])\n",
    "            t = data[i][1] + data[i][2]\n",
    "    else:\n",
    "        if t + data[i][2] <= data[i][3]:\n",
    "            answer.append([data[i][0], t, data[i][2] + t])\n",
    "            t = t + data[i][2]\n",
    "with open('results_SHC.txt', 'w') as f:\n",
    "    for i in answer:\n",
    "        f.write(' '.join(map(str, i)) + '\\n')"
   ]
  },
  {
   "cell_type": "code",
   "execution_count": 29,
   "id": "3c75f0c8-a40a-4a1f-ba91-404a403428f0",
   "metadata": {},
   "outputs": [
    {
     "name": "stdout",
     "output_type": "stream",
     "text": [
      "the number of violations:  0\n",
      "[0, 4, 1, 3, 2, 7, 6, 5, 9, 8]\n",
      "the number of violations:  1\n",
      "[0, 1, 6, 4, 3, 9, 2, 8, 15, 5, 10, 11, 7, 13, 12, 14, 17, 19, 16, 18]\n",
      "the number of violations:  10\n",
      "[0, 4, 6, 7, 3, 10, 1, 2, 25, 9, 8, 24, 11, 5, 19, 21, 15, 18, 12, 16, 13, 27, 29, 14, 17, 26, 20, 22, 23, 28]\n",
      "the number of violations:  10\n",
      "[0, 1, 3, 9, 10, 5, 12, 2, 4, 26, 7, 6, 11, 15, 8, 13, 20, 29, 21, 16, 28, 18, 14, 35, 30, 24, 34, 23, 25, 27, 22, 19, 17, 36, 32, 38, 33, 37, 31, 39]\n",
      "the number of violations:  18\n",
      "[0, 1, 3, 2, 11, 4, 5, 9, 8, 7, 22, 19, 45, 10, 15, 31, 32, 35, 6, 12, 30, 14, 13, 29, 25, 39, 34, 20, 42, 17, 23, 16, 18, 33, 28, 24, 26, 21, 27, 44, 47, 36, 48, 37, 38, 49, 40, 46, 43, 41]\n"
     ]
    }
   ],
   "source": [
    "k = 1\n",
    "results = []\n",
    "X = 100\n",
    "num = 45\n",
    "iterations = 666\n",
    "while k <= 15: \n",
    "    with open('test/test{}.txt'.format(k)) as f:\n",
    "        n = int(f.readline().strip())\n",
    "        data = []\n",
    "        for i in f:\n",
    "            data.append(list(map(int, i.split())))\n",
    "    start = time.time()\n",
    "    solution, best_solution = sHill(n, data, X, num, iterations)\n",
    "    end = time.time()\n",
    "    results.append([best_solution, end - start])\n",
    "    X += 6\n",
    "    num += 1\n",
    "    iterations += 666\n",
    "    k += 1\n",
    "    "
   ]
  },
  {
   "cell_type": "code",
   "execution_count": 30,
   "id": "291df6ff-f881-483a-a022-a43736762c7f",
   "metadata": {},
   "outputs": [],
   "source": [
    "with open(\"r_SHC.txt\", 'w') as f:\n",
    "    for i in results:\n",
    "        f.write(' '.join(map(str, i)) + '\\n')"
   ]
  },
  {
   "cell_type": "code",
   "execution_count": null,
   "id": "42bce23d-36e3-4940-b762-fdf569934959",
   "metadata": {},
   "outputs": [],
   "source": []
  }
 ],
 "metadata": {
  "kernelspec": {
   "display_name": "Python 3 (ipykernel)",
   "language": "python",
   "name": "python3"
  },
  "language_info": {
   "codemirror_mode": {
    "name": "ipython",
    "version": 3
   },
   "file_extension": ".py",
   "mimetype": "text/x-python",
   "name": "python",
   "nbconvert_exporter": "python",
   "pygments_lexer": "ipython3",
   "version": "3.9.7"
  }
 },
 "nbformat": 4,
 "nbformat_minor": 5
}
